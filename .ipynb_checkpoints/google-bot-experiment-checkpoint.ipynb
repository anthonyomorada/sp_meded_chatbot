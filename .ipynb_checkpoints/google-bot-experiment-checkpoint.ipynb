{
 "cells": [
  {
   "cell_type": "code",
   "execution_count": 1,
   "metadata": {},
   "outputs": [
    {
     "data": {
      "text/plain": [
       "['https://en.wikipedia.org/wiki/Samuel_L._Jackson',\n",
       " 'https://en.wikipedia.org/wiki/Samuel_L._Jackson_filmography',\n",
       " 'https://en.wikipedia.org/wiki/LaTanya_Richardson']"
      ]
     },
     "execution_count": 1,
     "metadata": {},
     "output_type": "execute_result"
    }
   ],
   "source": [
    "import requests\n",
    "from lxml import html\n",
    "from googlesearch import search\n",
    "from bs4 import BeautifulSoup\n",
    "\n",
    "query = 'how old is samuel l jackson'\n",
    "\n",
    "## Google Search query results as a Python List of URLs\n",
    "search_result_list = list(search(query, tld=\"co.in\", num=10, stop=3, pause=1))\n",
    "search_result_list\n",
    "\n"
   ]
  },
  {
   "cell_type": "code",
   "execution_count": 2,
   "metadata": {},
   "outputs": [
    {
     "data": {
      "text/plain": [
       "<Response [200]>"
      ]
     },
     "execution_count": 2,
     "metadata": {},
     "output_type": "execute_result"
    }
   ],
   "source": [
    "\n",
    "## What does this do?\n",
    "index = 1\n",
    "page = requests.get(search_result_list[0])\n",
    "page"
   ]
  }
 ],
 "metadata": {
  "kernelspec": {
   "display_name": "Python 3",
   "language": "python",
   "name": "python3"
  },
  "language_info": {
   "codemirror_mode": {
    "name": "ipython",
    "version": 3
   },
   "file_extension": ".py",
   "mimetype": "text/x-python",
   "name": "python",
   "nbconvert_exporter": "python",
   "pygments_lexer": "ipython3",
   "version": "3.7.4"
  }
 },
 "nbformat": 4,
 "nbformat_minor": 2
}
